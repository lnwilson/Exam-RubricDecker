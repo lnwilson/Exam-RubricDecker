{
 "cells": [
  {
   "cell_type": "markdown",
   "metadata": {
    "editable": false
   },
   "source": [
    "Rubric code: Decker\n",
    "# Take Home Lab Final Exam <font color=red>(60 marks)</font>#\n",
    "* Available April 1, 2020 @ 12:01 AM\n",
    "* Due April 8, 2020 @ 11:59 PM\n",
    "\n",
    "## Objectives: ##\n",
    "To assess student's mastery of using appropriate R commands.\n",
    "\n",
    "## Instructions: ##\n",
    "* You may use the \"<em>R commands so far</em>\" file on moodle.\n",
    "* You may look at the other tutorials, both your solutions and the sample solutions.\n",
    "* You may look up material in your textbook.\n",
    "* You may reference your notes.<br><br>\n",
    "\n",
    "* You may NOT work with another student to complete the exam.\n",
    "* You may NOT ask another student in the class how to answer any question. \n",
    "* You may NOT ask someone outside of the course to help you answer any question.\n",
    "\n",
    "## Assessment: ##\n",
    "* You must show all R commands used to find the solutions.\n",
    "* Marks are assigned for using appropriate R commands and using R for your calculations.\n",
    "* Correctly calculated answers without appropriate R command/calculations shown will be worth 0 marks.\n",
    "\n",
    "## Formulae: ##\n",
    "No formlae are provided for this tutorial.\n",
    "\n",
    "## Tools: ##"
   ]
  },
  {
   "cell_type": "code",
   "execution_count": 1,
   "metadata": {
    "editable": false
   },
   "outputs": [],
   "source": [
    "births <- read.csv(\"births.csv\",header=TRUE)"
   ]
  },
  {
   "cell_type": "markdown",
   "metadata": {
    "editable": false
   },
   "source": [
    "## Data Information: ##\n",
    "\n",
    "### Data Set 1: ###\n",
    "These data are birth records released by North Carolina in 2004.\n",
    "\n",
    "#### Name: #### \n",
    "* `births` - health data from the sample of the BRFSS survey from 2000.\n",
    "\n",
    "#### Variables: ####\n",
    "* `fAge` - Father’s age in years.\n",
    "* `mAge` - Mother’s age in years.\n",
    "* `weeks` - Number of weeks of gestation.\n",
    "* `premature` - Indicates whether the baby was premature (premie) or not (full term).\n",
    "* `visits` - Number of hospital visits.\n",
    "* `gained` - Weight gained by mother (lbs).\n",
    "* `weight` - Birth weight of the baby (lbs).\n",
    "* `sexBaby` - Gender of the baby (female or male).\n",
    "* `smoke` - Whether or not the mother was a smoker (smoker) or not (nonsmoker).\n",
    "\n",
    "### Data Set 2: ###\n",
    "A small random sample of observations from the 2000 U.S. Census Data.<br>You have been given a table that was constructed using this data.<br>\n",
    "- the data has not been provided as you will not need it to answer questions.\n",
    "\n",
    "#### Variables: ####\n",
    "* `sex` - Sex with levels: Female and Male.\n",
    "* `marital_status` - Marital status with levels Divorced, Married/spouse absent, Married/spouse present, Never married/single, Separated and Widowed.\n",
    "\n",
    "#### Table (also displayed in question 4) ####\n",
    "<table><tr><th></th><th>Female</th><th>Male</th></tr><tr><td>Never married/single</td><td>29</td><td>31</td></tr><tr><td>Married/spouse present</td><td>28</td><td>32</td></tr><tr><td>Separated</td><td>0</td><td>1</td></tr><tr><td>Married/spouse absent</td><td>3</td><td>3</td></tr><tr><td>Divorced</td><td>2</td><td>7</td></tr><tr><td>Widowed</td><td>12</td><td>2</td></tr></table>\n",
    "\n",
    "### Data Set 3: ###\n",
    "Height data by country as presented on tall.Life (https://tall.life/)."
   ]
  },
  {
   "cell_type": "markdown",
   "metadata": {
    "editable": false
   },
   "source": [
    "# Question 1 <font color=red>(10 marks)</font>##\n",
    "### Use the `births` data to complete each of the following tasks using R commands ###\n",
    "* a. Determine the minimum birth weight. \n",
    "* b. Determine whether the baby with the minimum weight was a premie or full term.\n",
    "* c. Determine the maximum birth weight. \n",
    "* d. Determine whether the mother of the baby with the maximum weight was a smoker.\n",
    "* e. Determine the range of the birth weights.\n",
    "* f. Determine the lower quartile, median, and upper quartile of the birth weights.\n",
    "* g. Determine the interquartile range of the birth weights.\n",
    "* h. Determine the mean birth weight of the female premie babies."
   ]
  },
  {
   "cell_type": "code",
   "execution_count": null,
   "metadata": {},
   "outputs": [],
   "source": [
    "This is a code cell, use the + symbol in the menu above to create as many code cells as you need."
   ]
  },
  {
   "cell_type": "markdown",
   "metadata": {
    "editable": false
   },
   "source": [
    "### Answer 1. ##"
   ]
  },
  {
   "cell_type": "markdown",
   "metadata": {},
   "source": [
    "* a. _ \n",
    "* b. _\n",
    "* c. _ \n",
    "* d. _\n",
    "* e. _\n",
    "* f. _\n",
    "* g. _\n",
    "* h. _"
   ]
  },
  {
   "cell_type": "markdown",
   "metadata": {
    "editable": false
   },
   "source": [
    "# Question 2 <font color=red>(9 marks)</font>##\n",
    "### Use the `births` data to complete each of the following tasks using R commands ###\n",
    "### Label all of the graphics appropriately. ###\n",
    "* a. Make a histogram for the birth weights. \n",
    "* b. Make side-by-side boxplots for the birth weights of the female and male babies. \n",
    "* c. Make a scatterplot for the birth weights and weeks of gestation."
   ]
  },
  {
   "cell_type": "markdown",
   "metadata": {
    "editable": false
   },
   "source": [
    "### Answer 2a. ##"
   ]
  },
  {
   "cell_type": "code",
   "execution_count": null,
   "metadata": {},
   "outputs": [],
   "source": [
    "This is a code cell, use the + symbol in the menu above to create as many code cells as you need."
   ]
  },
  {
   "cell_type": "markdown",
   "metadata": {
    "editable": false
   },
   "source": [
    "### Answer 2b. ##"
   ]
  },
  {
   "cell_type": "code",
   "execution_count": null,
   "metadata": {},
   "outputs": [],
   "source": [
    "This is a code cell, use the + symbol in the menu above to create as many code cells as you need."
   ]
  },
  {
   "cell_type": "markdown",
   "metadata": {
    "editable": false
   },
   "source": [
    "### Answer 2c. ##"
   ]
  },
  {
   "cell_type": "code",
   "execution_count": null,
   "metadata": {},
   "outputs": [],
   "source": [
    "This is a code cell, use the + symbol in the menu above to create as many code cells as you need."
   ]
  },
  {
   "cell_type": "markdown",
   "metadata": {
    "editable": false
   },
   "source": [
    "# Question 3 <font color=red>(10 marks)</font>##\n",
    "### Use the `births` data to complete each of the following tasks using R commands ###\n",
    "### Label all of the graphics appropriately. ###\n",
    "* a. Make a contingency table for whether or not the baby was a premie and the sex of the baby.\n",
    "* b. Make a relative frequency table for whether or not the baby was a premie and the sex of the baby, split by whether they were a premie first then the sex of the baby.\n",
    "* c. Make a stacked barplot for whether or not the baby was a premie split by their sex. \n",
    "* d. Make a mosaic plot for whether or not the baby was a premie split by their sex. "
   ]
  },
  {
   "cell_type": "markdown",
   "metadata": {
    "editable": false
   },
   "source": [
    "### Answer 3a. ##"
   ]
  },
  {
   "cell_type": "code",
   "execution_count": null,
   "metadata": {},
   "outputs": [],
   "source": [
    "This is a code cell, use the + symbol in the menu above to create as many code cells as you need."
   ]
  },
  {
   "cell_type": "markdown",
   "metadata": {
    "editable": false
   },
   "source": [
    "### Answer 3b. ##"
   ]
  },
  {
   "cell_type": "code",
   "execution_count": null,
   "metadata": {},
   "outputs": [],
   "source": [
    "This is a code cell, use the + symbol in the menu above to create as many code cells as you need."
   ]
  },
  {
   "cell_type": "markdown",
   "metadata": {
    "editable": false
   },
   "source": [
    "### Answer 3c. ##"
   ]
  },
  {
   "cell_type": "code",
   "execution_count": null,
   "metadata": {},
   "outputs": [],
   "source": [
    "This is a code cell, use the + symbol in the menu above to create as many code cells as you need."
   ]
  },
  {
   "cell_type": "markdown",
   "metadata": {
    "editable": false
   },
   "source": [
    "### Answer 3d. ##"
   ]
  },
  {
   "cell_type": "code",
   "execution_count": null,
   "metadata": {},
   "outputs": [],
   "source": [
    "This is a code cell, use the + symbol in the menu above to create as many code cells as you need."
   ]
  },
  {
   "cell_type": "markdown",
   "metadata": {
    "editable": false
   },
   "source": [
    "# Question 4 <font color=red>(10 marks)</font>##\n",
    "### Use the table below to complete each of the following tasks by using R as your calculator ###\n",
    "<table><tr><th></th><th>Female</th><th>Male</th></tr><tr><td>Never married/single</td><td>29</td><td>31</td></tr><tr><td>Married/spouse present</td><td>28</td><td>32</td></tr><tr><td>Separated</td><td>0</td><td>1</td></tr><tr><td>Married/spouse absent</td><td>3</td><td>3</td></tr><tr><td>Divorced</td><td>2</td><td>7</td></tr><tr><td>Widowed</td><td>12</td><td>2</td></tr></table>\n",
    "\n",
    "Determine the probability that a randomly selected member of this sample will be...\n",
    "* a. ... male.\n",
    "* b. ... not divorced.\n",
    "* c. ... separated or married but their spouse is absent.\n",
    "* d. ... widowed or female.\n",
    "* e. ... never married (single) and male.\n",
    "* f. ... married and spouse present given that they are female."
   ]
  },
  {
   "cell_type": "code",
   "execution_count": null,
   "metadata": {},
   "outputs": [],
   "source": [
    "This is a code cell, use the + symbol in the menu above to create as many code cells as you need."
   ]
  },
  {
   "cell_type": "markdown",
   "metadata": {
    "editable": false
   },
   "source": [
    "### Answer 4. ##"
   ]
  },
  {
   "cell_type": "markdown",
   "metadata": {},
   "source": [
    "* a. _ \n",
    "* b. _\n",
    "* c. _ \n",
    "* d. _\n",
    "* e. _\n",
    "* f. _"
   ]
  },
  {
   "cell_type": "markdown",
   "metadata": {
    "editable": false
   },
   "source": [
    "# Question 5 <font color=red>(12 marks)</font>##\n",
    "### Use the information presented below to complete each of the following tasks by using R commands and/or using R as your calculator ###\n",
    "According to the 2016 Canadian census, as of May 10 2016 there were 35,151,728 Canadian citizens and 4,067,175 of them lived in Alberta.\n",
    "* a. Determine the probability that a randomly selected Canadian lives in Alberta.\n",
    "* b. Let $X$ be a random variable representing the number of randomly selected Canadians out of a sample of 125 that live in Alberta then $X$ is a binomial random variable. Give the short form for $X$.\n",
    "* c. Determine the mean of $X$.\n",
    "* d. Determine the standard deviation of $X$.\n",
    "* e. Determine the following probabilities:\n",
    "  * i. $P(X<21)$\n",
    "  * ii. $P(X\\le8)$\n",
    "  * iii. $P(X=20)$\n",
    "  * iv. $P(X\\ge11)$\n",
    "  * v. $P(20<X\\le23)$"
   ]
  },
  {
   "cell_type": "code",
   "execution_count": null,
   "metadata": {},
   "outputs": [],
   "source": [
    "This is a code cell, use the + symbol in the menu above to create as many code cells as you need."
   ]
  },
  {
   "cell_type": "markdown",
   "metadata": {
    "editable": false
   },
   "source": [
    "### Answer 5. ##"
   ]
  },
  {
   "cell_type": "markdown",
   "metadata": {},
   "source": [
    "* a. _ \n",
    "* b. _\n",
    "* c. _ \n",
    "* d. _\n",
    "* e. \n",
    "  * i. _\n",
    "  * ii. _\n",
    "  * iii. _\n",
    "  * iv. _\n",
    "  * v. _"
   ]
  },
  {
   "cell_type": "markdown",
   "metadata": {
    "editable": false
   },
   "source": [
    "# Question 6 <font color=red>(9 marks)</font>##\n",
    "### Use the information presented below to complete each of the following tasks by using R commands and/or using R as your calculator ###\n",
    "According to the website Tall Life, the heights of adult women in Denmark are normally distributed with a mean of 167.1 cm and a standard deviation of 7.11 cm. Let $Y$ be a random variable representing the height in cm of women in Denmark.\n",
    "* a. Give the short form for $Y$.\n",
    "* b. Determine the following probabilities:\n",
    "  * i. $P(Y<150)$\n",
    "  * ii. $P(Y>163)$\n",
    "  * iii. $P(182<Y<184)$\n",
    "* c. Determine the following values:\n",
    "  * i. The 93th percentile.\n",
    "  * ii. The minimum height to be among the tallest 22% of women in Denmark."
   ]
  },
  {
   "cell_type": "code",
   "execution_count": null,
   "metadata": {},
   "outputs": [],
   "source": [
    "This is a code cell, use the + symbol in the menu above to create as many code cells as you need."
   ]
  },
  {
   "cell_type": "markdown",
   "metadata": {
    "editable": false
   },
   "source": [
    "### Answer 6. ##"
   ]
  },
  {
   "cell_type": "markdown",
   "metadata": {},
   "source": [
    "* a. _\n",
    "* b. \n",
    "  * i. _\n",
    "  * ii. _\n",
    "  * iii. _\n",
    "* c. \n",
    "  * i. _\n",
    "  * ii. _"
   ]
  },
  {
   "cell_type": "markdown",
   "metadata": {
    "editable": false
   },
   "source": [
    "---\n",
    "---\n",
    "#### This tutorial is released under a Creative Commons Attribution-ShareAlike 3.0 Unported.\n",
    "\n",
    "This tutorial has been adapted from a lab that  was adapted for OpenIntro by Andrew Bray and Mine Çetinkaya-Rundel from a lab written by Mark Hansen of UCLA Statistics.\n",
    "\n",
    "---\n",
    "---"
   ]
  }
 ],
 "metadata": {
  "kernelspec": {
   "display_name": "R",
   "language": "R",
   "name": "ir"
  },
  "language_info": {
   "codemirror_mode": "r",
   "file_extension": ".r",
   "mimetype": "text/x-r-source",
   "name": "R",
   "pygments_lexer": "r",
   "version": "3.6.1"
  }
 },
 "nbformat": 4,
 "nbformat_minor": 2
}
